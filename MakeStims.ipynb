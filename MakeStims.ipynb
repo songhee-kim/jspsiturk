{
 "cells": [
  {
   "cell_type": "code",
   "execution_count": 10,
   "metadata": {},
   "outputs": [
    {
     "name": "stdout",
     "output_type": "stream",
     "text": [
      "Pretty printing has been turned OFF\n"
     ]
    }
   ],
   "source": [
    "import pandas as pd\n",
    "import csv\n",
    "%pprint off"
   ]
  },
  {
   "cell_type": "code",
   "execution_count": 70,
   "metadata": {},
   "outputs": [],
   "source": [
    "querycontent = pd.read_excel('~/Google Drive/Primary/jsp/jspsych-crea/v_query_sample.xlsx').to_dict(orient='index')"
   ]
  },
  {
   "cell_type": "code",
   "execution_count": 71,
   "metadata": {},
   "outputs": [
    {
     "data": {
      "text/plain": [
       "{0: {'Name': 'Vision', 'Type': 'Sensory', 'Modality': 'Vision', 'Submodality': 'General', 'Relation': 'being', 'Query': 'an action or activity in which you see something', 'High': 'observe', 'HighExp': 'observing means looking at something.', 'Med': 'perceived', 'MediumExp': 'perceiving something may in some cases involve seeing it.'}, 1: {'Name': 'Bright', 'Type': 'Sensory', 'Modality': 'Vision', 'Submodality': 'Intensity', 'Relation': 'being associated with', 'Query': 'light or brightness', 'High': 'gleam', 'HighExp': 'when something gleams it is very bright.', 'Med': 'glowed', 'MediumExp': 'when something glows it gives off a soft light.'}, 2: {'Name': 'Dark', 'Type': 'Sensory', 'Modality': 'Vision', 'Submodality': 'Intensity', 'Relation': 'being associated with', 'Query': 'dark or blackness', 'High': 'extinguish', 'HighExp': 'extinguishing a light makes things dark.', 'Med': 'dimmed', 'MediumExp': 'dimming a light makes things somewhat darker.'}, 3: {'Name': 'Color', 'Type': 'Sensory', 'Modality': 'Vision', 'Submodality': 'Surface', 'Relation': 'being associated with', 'Query': 'color or change in color', 'High': 'blush', 'HighExp': 'to blush is to turn red.', 'Med': 'decorated', 'MediumExp': 'decorating can involve adding or changing a color.'}, 4: {'Name': 'Pattern', 'Type': 'Sensory', 'Modality': 'Vision', 'Submodality': 'Surface', 'Relation': 'being associated with', 'Query': 'a visual surface pattern or change in a visual surface', 'High': 'engrave', 'HighExp': 'engraving involves marking a surface.', 'Med': 'softened', 'MediumExp': 'when something softens it may change its surface appearance.'}, 5: {'Name': 'Large', 'Type': 'Sensory', 'Modality': 'Vision', 'Submodality': 'Size', 'Relation': 'being', 'Query': 'an action or activity involving something large', 'High': 'demolish', 'HighExp': 'demolishing is typically something done to buildings.', 'Med': 'drove', 'MediumExp': 'driving is typically done with a fairly large object such as a car.'}, 6: {'Name': 'Small', 'Type': 'Sensory', 'Modality': 'Vision', 'Submodality': 'Size', 'Relation': 'being', 'Query': 'an action or activity involving something small', 'High': 'mince', 'HighExp': 'mincing involves chopping up small pieces of something.', 'Med': 'winked', 'MediumExp': 'winking is done with the eye, which is a fairly small object.'}, 7: {'Name': 'Motion', 'Type': 'Sensory', 'Modality': 'Vision', 'Submodality': 'Motion', 'Relation': 'being associated with', 'Query': 'a specific type or a large amount of visible movement', 'High': 'bounce', 'HighExp': 'when something bounces it is constantly moving.', 'Med': 'browsed', 'MediumExp': 'browsing involves some movement of a particular type.'}, 8: {'Name': 'Biomotion', 'Type': 'Sensory', 'Modality': 'Vision', 'Submodality': 'Motion', 'Relation': 'being', 'Query': 'an action or activity in which a living thing makes visible movements ', 'High': 'sneeze', 'HighExp': 'sneezing is a visible action made by a living thing.', 'Med': 'pushed', 'MediumExp': 'pushing is a visible action that may or may not be made by a living thing.'}, 9: {'Name': 'Fast', 'Type': 'Sensory', 'Modality': 'Vision', 'Submodality': 'Motion', 'Relation': 'being associated with', 'Query': 'fast visible movement', 'High': 'punch', 'HighExp': 'punching produces a fast visible movement.', 'Med': 'danced', 'MediumExp': 'dancing may or may not be fast.'}, 10: {'Name': 'Slow', 'Type': 'Sensory', 'Modality': 'Vision', 'Submodality': 'Motion', 'Relation': 'being associated with', 'Query': 'slow visible movement', 'High': 'sway', 'HighExp': 'swaying produces a slow visible movement.', 'Med': 'sauntered', 'MediumExp': 'sauntering involves a somewhat slow visible movement.'}, 11: {'Name': 'Shape', 'Type': 'Sensory', 'Modality': 'Vision', 'Submodality': 'Shape', 'Relation': 'being associated with', 'Query': 'a change in the visual shape or size of something', 'High': 'bend', 'HighExp': 'bending something changes its visual shape.', 'Med': 'pulled', 'MediumExp': 'pulling may or may not result in a change in visual shape.'}, 12: {'Name': 'Complexity', 'Type': 'Sensory', 'Modality': 'Vision', 'Submodality': 'Shape', 'Relation': 'na', 'Query': 'na', 'High': 'na', 'HighExp': 'na', 'Med': 'na', 'MediumExp': 'na'}, 13: {'Name': 'Face', 'Type': 'Sensory', 'Modality': 'Vision', 'Submodality': 'Shape', 'Relation': 'being associated with', 'Query': 'visible movements of the face', 'High': 'wink', 'HighExp': 'winking produces a visible movement of the face.', 'Med': 'gulped', 'MediumExp': 'gulping produces a small visible movement of the face.'}, 14: {'Name': 'Body', 'Type': 'Sensory', 'Modality': 'Vision', 'Submodality': 'Shape', 'Relation': 'being associated with', 'Query': 'visible movements of the body or limbs', 'High': 'dance', 'HighExp': 'dancing produces visible movements of the body.', 'Med': 'shuddered', 'MediumExp': 'shuddering produces small visible movements of the body.'}, 15: {'Name': 'Touch', 'Type': 'Sensory', 'Modality': 'Somatic', 'Submodality': 'General', 'Relation': 'being', 'Query': 'an action or activity in which you feel something by touch', 'High': 'caress', 'HighExp': 'caressing means touching something softly.', 'Med': 'perceived', 'MediumExp': 'perceiving something may in some cases involve touching it.'}, 16: {'Name': 'Hot', 'Type': 'Sensory', 'Modality': 'Somatic', 'Submodality': 'Surface', 'Relation': 'being associated with', 'Query': 'touching or feeling something hot', 'High': 'burn', 'HighExp': 'being burned involves touching something very hot.', 'Med': 'showered', 'MediumExp': 'showering typically involves feeling warm water.'}, 17: {'Name': 'Cold', 'Type': 'Sensory', 'Modality': 'Somatic', 'Submodality': 'Surface', 'Relation': 'being associated with', 'Query': 'touching or feeling something cold', 'High': 'freeze', 'HighExp': 'freezing comes from contact with extreme cold.', 'Med': 'swam', 'MediumExp': 'swimming typically involves feeling cool water.'}, 18: {'Name': 'Smooth', 'Type': 'Sensory', 'Modality': 'Somatic', 'Submodality': 'Surface', 'Relation': 'being associated with', 'Query': 'touching or feeling something smooth', 'High': 'caress', 'HighExp': 'caressing is when you softly touch something smooth. ', 'Med': 'wiped', 'MediumExp': 'wiping is usually done on a smooth surface.'}, 19: {'Name': 'Rough', 'Type': 'Sensory', 'Modality': 'Somatic', 'Submodality': 'Surface', 'Relation': 'being associated with', 'Query': 'touching or feeling something rough', 'High': 'scrape', 'HighExp': 'scraping is when you rub against something hard and rough.', 'Med': 'rubbed', 'MediumExp': 'rubbing can involve contact with a rough surface.'}, 20: {'Name': 'Light', 'Type': 'Sensory', 'Modality': 'Somatic', 'Submodality': 'Proprioception', 'Relation': 'being associated with', 'Query': 'something light in weight', 'High': 'float', 'HighExp': 'things that are light in weight typically float.', 'Med': 'tossed', 'MediumExp': 'tossing typically involves things that are relatively light in weight.'}, 21: {'Name': 'Heavy', 'Type': 'Sensory', 'Modality': 'Somatic', 'Submodality': 'Proprioception', 'Relation': 'being associated with', 'Query': 'something heavy in weight', 'High': 'drag', 'HighExp': 'you drag things that are heavy in weight.', 'Med': 'hoisted', 'MediumExp': 'hoisting typically involves things that are relatively heavy.'}, 22: {'Name': 'Pain', 'Type': 'Sensory', 'Modality': 'Somatic', 'Submodality': 'Nociception', 'Relation': 'being associated with', 'Query': 'physical pain or discomfort', 'High': 'sprain', 'HighExp': 'spraining a joint generally causes severe pain.', 'Med': 'bumped', 'MediumExp': 'bumping into something can cause mild pain.'}, 23: {'Name': 'Audition', 'Type': 'Sensory', 'Modality': 'Audition', 'Submodality': 'General', 'Relation': 'being associated with', 'Query': 'hearing something', 'High': 'beep', 'HighExp': 'when something beeps it makes a sound.', 'Med': 'perceived', 'MediumExp': 'perceiving something may in some cases involve hearing it.'}, 24: {'Name': 'Loud', 'Type': 'Sensory', 'Modality': 'Audition', 'Submodality': 'Intensity', 'Relation': 'being associated with', 'Query': 'a loud sound', 'High': 'explode', 'HighExp': 'when something explodes it makes a very loud sound.', 'Med': 'clanged', 'MediumExp': 'clanging noises are typically somewhat loud.'}, 25: {'Name': 'Low', 'Type': 'Sensory', 'Modality': 'Audition', 'Submodality': 'Frequency', 'Relation': 'being associated with', 'Query': 'a low-pitched sound', 'High': 'boom', 'HighExp': 'when something booms it makes a low-pitched sound.', 'Med': 'buzzed', 'MediumExp': 'buzzing noises are usually low in pitch.'}, 26: {'Name': 'High', 'Type': 'Sensory', 'Modality': 'Audition', 'Submodality': 'Frequency', 'Relation': 'being associated with', 'Query': 'a high-pitched sound', 'High': 'squeal', 'HighExp': 'when something squeals it makes a high-pitched sound.', 'Med': 'chimed', 'MediumExp': 'chiming noises are usually somewhat high in pitch.'}, 27: {'Name': 'Sound', 'Type': 'Sensory', 'Modality': 'Audition', 'Submodality': 'Shape', 'Relation': 'being associated with', 'Query': 'a characteristic or recognizable sound', 'High': 'bark', 'HighExp': 'barking by dogs is a very recognizable sound.', 'Med': 'clattered', 'MediumExp': 'clattering noises can be made by a variety of different objects.'}, 28: {'Name': 'Music', 'Type': 'Sensory', 'Modality': 'Audition', 'Submodality': 'Shape', 'Relation': 'being associated with', 'Query': 'a musical sound', 'High': 'sing', 'HighExp': 'singing creates musical sounds.', 'Med': 'chimed', 'MediumExp': 'chiming noises are somewhat musical sounding.'}, 29: {'Name': 'Speech', 'Type': 'Sensory', 'Modality': 'Audition', 'Submodality': 'Phoneme', 'Relation': 'being associated with', 'Query': 'human speech sounds', 'High': 'talk', 'HighExp': 'talking involves human speech sounds.', 'Med': 'babbled', 'MediumExp': 'babbling often refers to human speech that is hard to understand.'}, 30: {'Name': 'Taste', 'Type': 'Sensory', 'Modality': 'Gustation', 'Submodality': 'Quality', 'Relation': 'being associated with', 'Query': 'tasting something', 'High': 'sip', 'HighExp': 'sipping involves tasting a beverage.', 'Med': 'cooked', 'MediumExp': 'cooking is often accompanied by tasting.'}, 31: {'Name': 'Smell', 'Type': 'Sensory', 'Modality': 'Olfaction', 'Submodality': 'Quality', 'Relation': 'being associated with', 'Query': 'smelling something', 'High': 'cook', 'HighExp': 'cooking involves smelling food.', 'Med': 'bathed', 'MediumExp': 'when you bathe you often smell soap or shampoo.'}, 32: {'Name': 'Head', 'Type': 'Motor', 'Modality': 'Motor', 'Submodality': 'Motor', 'Relation': 'being', 'Query': 'an action or activity in which you use the face, mouth, or tongue', 'High': 'smile', 'HighExp': 'smiling is an action involving the face and mouth.', 'Med': 'breathed', 'MediumExp': \"breathing involves the mouth or nose although they don't actually move.\"}, 33: {'Name': 'UpperLimb', 'Type': 'Motor', 'Modality': 'Motor', 'Submodality': 'Motor', 'Relation': 'being', 'Query': 'an action or activity in which you use the arm, hand, or fingers', 'High': 'applaude', 'HighExp': 'applauding is an action involving the arms and hands.', 'Med': 'jogged', 'MediumExp': 'jogging usually involves the arms to some degree.'}, 34: {'Name': 'LowerLimb', 'Type': 'Motor', 'Modality': 'Motor', 'Submodality': 'Motor', 'Relation': 'being', 'Query': 'an action or activity in which you use the leg or foot', 'High': 'jump', 'HighExp': 'jumping requires using your legs and feet.', 'Med': 'sat', 'MediumExp': 'sitting involves some minimal positioning of the legs.'}, 35: {'Name': 'Practice', 'Type': 'Motor', 'Modality': 'Motor', 'Submodality': 'Motor', 'Relation': 'being', 'Query': 'a bodily action or activity that YOU have personal experience doing', 'High': 'chew', 'HighExp': 'chewing is a very familiar action that people have a lot of experience doing.', 'Med': 'sang', 'MediumExp': 'singing is an activity you probably have some personal experience doing.'}, 36: {'Name': 'Landmark', 'Type': 'Spatial', 'Modality': 'Navigation', 'Submodality': 'Navigation', 'Relation': 'being', 'Query': 'an action or activity in which you use a mental map of your environment', 'High': 'drive', 'HighExp': \"a mental map tells you where you're going when you drive a car.\", 'Med': 'shopped', 'MediumExp': 'a mental map of the environment may guide you when you shop.'}, 37: {'Name': 'Path', 'Type': 'Spatial', 'Modality': 'Navigation', 'Submodality': 'Navigation', 'Relation': 'being associated with', 'Query': 'someone or something moving from one location to another', 'High': 'travel', 'HighExp': 'traveling involves going from one place to another.', 'Med': 'searched', 'MediumExp': 'searching may or may not require you to change your location.'}, 38: {'Name': 'Scene', 'Type': 'Spatial', 'Modality': 'Scene', 'Submodality': 'Scene', 'Relation': 'being', 'Query': 'an action or activity that typically occurs in a particular setting or physical location', 'High': 'shave', 'HighExp': 'shaving is typically done in the bathroom.', 'Med': 'grilled', 'MediumExp': 'grilling is often but not always done in the back yard.'}, 39: {'Name': 'Near', 'Type': 'Spatial', 'Modality': 'Self Space', 'Submodality': 'Proximity', 'Relation': 'being', 'Query': 'an action or activity involving things that are physically near to you (within easy reach)', 'High': 'dine', 'HighExp': 'dining involves interacting with things that are close to you.', 'Med': 'observed', 'MediumExp': 'observing may involve things that are close or far away.'}, 40: {'Name': 'Toward', 'Type': 'Spatial', 'Modality': 'Self Space', 'Submodality': 'Toward', 'Relation': 'being associated with', 'Query': 'something coming toward or into you', 'High': 'catch', 'HighExp': 'catching involves receiving something coming toward you.', 'Med': 'showered', 'MediumExp': 'one aspect of showering is bringing water and soap toward you.'}, 41: {'Name': 'Away', 'Type': 'Spatial', 'Modality': 'Self Space', 'Submodality': 'Away', 'Relation': 'being associated with', 'Query': 'something going away from or out of you', 'High': 'send', 'HighExp': 'sending involves moving something farther away from you.', 'Med': 'offered', 'MediumExp': 'offering is a suggestion of giving something to someone.'}, 42: {'Name': 'Number', 'Type': 'Number', 'Modality': 'Number', 'Submodality': 'Number', 'Relation': 'being associated with', 'Query': 'a specific number or amount', 'High': 'triple', 'HighExp': 'tripling something means making it 3 times more.', 'Med': 'bowled', 'MediumExp': 'thinking about bowling might make you think of 12 pins.'}, 43: {'Name': 'Time', 'Type': 'Event', 'Modality': 'Temporal', 'Submodality': 'Time', 'Relation': 'being', 'Query': 'an action or activity that occurs at a typical or predictable time', 'High': 'wake', 'HighExp': 'waking is something you do at a certain time of the day.', 'Med': 'cooked', 'MediumExp': 'cooking is something that typically occurs in the evening.'}, 44: {'Name': 'Duration', 'Type': 'Event', 'Modality': 'Temporal', 'Submodality': 'Duration', 'Relation': 'being', 'Query': 'an action or activity that has a predictable duration, whether short or long', 'High': 'shower', 'HighExp': 'showering takes a fairly predictable amount of time.', 'Med': 'cooked', 'MediumExp': 'cooking can take a somewhat variable amount of time.'}, 45: {'Name': 'Long', 'Type': 'Event', 'Modality': 'Temporal', 'Submodality': 'Long', 'Relation': 'being ', 'Query': 'an action or activity that happens over a long period of time', 'High': 'erode', 'HighExp': 'eroding is typically a slow process that takes a long time.', 'Med': 'developed', 'MediumExp': 'developing is typically but not always a long process.'}, 46: {'Name': 'Short', 'Type': 'Event', 'Modality': 'Temporal', 'Submodality': 'Short', 'Relation': 'being ', 'Query': 'an action or activity that happens over a short period of time', 'High': 'blink', 'HighExp': 'blinking is an action that takes a very brief amount of time.', 'Med': 'revealed', 'MediumExp': 'revealing something is typically but not always a brief process.'}, 47: {'Name': 'Caused', 'Type': 'Event', 'Modality': 'Causal', 'Submodality': 'Causal', 'Relation': 'being associated with', 'Query': 'someone or something causing a change in something else', 'High': 'carve', 'HighExp': 'carving something removes part of it or changes its appearance.', 'Med': 'befriended', 'MediumExp': 'befriending someone can cause an emotional change in them or in you.'}, 48: {'Name': 'Caused (revised)', 'Type': 'Event', 'Modality': 'ArgStructural', 'Submodality': 'Causal', 'Relation': 'being associated with', 'Query': 'someone or something causing a change in something else', 'High': 'murder', 'HighExp': 'MURDER is an event where someone causes the other to be dead.', 'Med': 'have', 'MediumExp': 'have does not cause anything.'}, 49: {'Name': 'Consequential', 'Type': 'Event', 'Modality': 'Causal', 'Submodality': 'Causal', 'Relation': 'being', 'Query': 'an action or activity that is likely to have consequences (cause other things to happen)', 'High': 'murder', 'HighExp': 'murder triggers an investigation and many other consequences.', 'Med': 'thought', 'MediumExp': 'thinking is often followed by decisions and actions.'}, 50: {'Name': 'Social', 'Type': 'Event', 'Modality': 'Social', 'Submodality': 'Social', 'Relation': 'being', 'Query': 'an action or activity that involves an interaction between people', 'High': 'collaborate', 'HighExp': 'collaborating requires interactions between people.', 'Med': 'drove', 'MediumExp': 'driving in a car is often done with other people.'}, 51: {'Name': 'Human', 'Type': 'Cognition', 'Modality': 'Social', 'Submodality': 'Theory of Mind', 'Relation': 'being', 'Query': 'an action or activity that involves human intentions, plans, or goals', 'High': 'invent', 'HighExp': 'inventing requires complex planning to achieve goals. ', 'Med': 'searched', 'MediumExp': 'searching involves plans and goals but may be done by non-human animals.'}, 52: {'Name': 'Communication', 'Type': 'Cognition', 'Modality': 'Social', 'Submodality': 'Communication', 'Relation': 'being', 'Query': 'an action or activity by which people communicate, or transmit or receive information', 'High': 'explain', 'HighExp': 'explaining is when a person clarifies by communicating information.', 'Med': 'painted', 'MediumExp': 'painting may be an artistic form of communication.'}, 53: {'Name': 'Self', 'Type': 'Cognition', 'Modality': 'Self', 'Submodality': 'Self', 'Relation': 'being', 'Query': 'an action or activity that is typical of YOU, something you commonly do and identify with', 'High': 'learn', 'HighExp': 'learning is something you probably try to do and take pride in.', 'Med': 'tried', 'MediumExp': 'trying is probably something you do most of the time.'}, 54: {'Name': 'Cognition', 'Type': 'Cognition', 'Modality': 'Cognition', 'Submodality': 'Cognition', 'Relation': 'being', 'Query': 'a mental activity or state of mind that involves thinking', 'High': 'consider', 'HighExp': 'considering something involves thinking about it.', 'Med': 'grieved', 'MediumExp': 'grieving is a state of mind that involves some degree of thinking.'}, 55: {'Name': 'Benefit', 'Type': 'Evaluation', 'Modality': 'Cognitive', 'Submodality': 'Positive', 'Relation': 'being', 'Query': 'an action or activity that could help or benefit you or others', 'High': 'donate', 'HighExp': 'donating is a way to help good causes.', 'Med': 'explained', 'MediumExp': 'explaining may improve understanding between people.'}, 56: {'Name': 'Harm', 'Type': 'Evaluation', 'Modality': 'Cognitive', 'Submodality': 'Negative', 'Relation': 'being', 'Query': 'an action or activity that could cause harm to you or others', 'High': 'infect', 'HighExp': 'infecting means transmitting a disease.', 'Med': 'yelled', 'MediumExp': 'yelling may create anxiety or fear.'}, 57: {'Name': 'Pleasant', 'Type': 'Evaluation', 'Modality': 'Affective', 'Submodality': 'Positive', 'Relation': 'being', 'Query': 'an action or activity that you find pleasant', 'High': 'relax', 'HighExp': 'relaxing is something you probably find pleasant.', 'Med': 'conversed', 'MediumExp': 'conversing is probably something you find somewhat pleasant.'}, 58: {'Name': 'Unpleasant', 'Type': 'Evaluation', 'Modality': 'Affective', 'Submodality': 'Negative', 'Relation': 'being', 'Query': 'an action or activity that you find unpleasant', 'High': 'argued', 'HighExp': 'arguing is something you probably find unpleasant.', 'Med': 'waited', 'MediumExp': 'waiting is probably something you find somewhat unpleasant.'}, 59: {'Name': 'Happy', 'Type': 'Emotion', 'Modality': 'Positive', 'Submodality': 'High', 'Relation': 'being associated with', 'Query': 'feeling happy', 'High': 'praise', 'HighExp': 'you feel happy when someone praises you.', 'Med': 'chatted', 'MediumExp': 'people typically feel somewhat happy when they are chatting.'}, 60: {'Name': 'Sad', 'Type': 'Emotion', 'Modality': 'Negative', 'Submodality': 'Low', 'Relation': 'being associated with', 'Query': 'feeling sad', 'High': 'cry', 'HighExp': 'you cry when you feel sad.', 'Med': 'departed', 'MediumExp': 'people often feel somewhat sad when departing.'}, 61: {'Name': 'Angry', 'Type': 'Emotion', 'Modality': 'Negative', 'Submodality': 'High', 'Relation': 'being associated with', 'Query': 'feeling angry', 'High': 'cheat', 'HighExp': 'you feel angry when someone cheats you.', 'Med': 'delayed', 'MediumExp': 'delaying something often makes people somewhat angry .'}, 62: {'Name': 'Disgusted', 'Type': 'Emotion', 'Modality': 'Negative', 'Submodality': 'High', 'Relation': 'being associated with', 'Query': 'feeling disgusted', 'High': 'stink', 'HighExp': 'you feel disgusted when something stinks.', 'Med': 'bragged', 'MediumExp': 'hearing someone brag may make you feel somewhat disgusted.'}, 63: {'Name': 'Fearful', 'Type': 'Emotion', 'Modality': 'Negative', 'Submodality': 'High', 'Relation': 'being associated with', 'Query': 'feeling afraid', 'High': 'threaten', 'HighExp': 'you feel afraid when someone or something threatens you.', 'Med': 'loomed', 'MediumExp': 'you may feel afraid when something large looms over you.'}, 64: {'Name': 'Surprised', 'Type': 'Emotion', 'Modality': 'Neutral', 'Submodality': 'High', 'Relation': 'being associated with', 'Query': 'feeling surprised', 'High': 'shock', 'HighExp': 'you feel surprised when something shocks you', 'Med': 'interrupted', 'MediumExp': 'you may feel somewhat surprised when someone interrupts you.'}, 65: {'Name': 'Drive', 'Type': 'Drive', 'Modality': 'General', 'Submodality': 'General', 'Relation': 'being', 'Query': 'an action or mental state in which you are motivated to do something', 'High': 'exercise', 'HighExp': 'exercising requires you to feel motivated.', 'Med': 'cooked', 'MediumExp': 'people typically are motivated to eat when they are cooking. '}, 66: {'Name': 'Needs', 'Type': 'Drive', 'Modality': 'Basic', 'Submodality': 'Basic', 'Relation': 'being', 'Query': 'an action or activity that provides things that would be difficult to live without', 'High': 'breathe', 'HighExp': 'breathing provides oxygen, which you need to live.', 'Med': 'cleaned', 'MediumExp': 'cleaning creates an environment that is conducive to health.'}, 67: {'Name': 'Attention', 'Type': 'Attention', 'Modality': 'General', 'Submodality': 'General', 'Relation': 'being', 'Query': 'an action that grabs your attention', 'High': 'scream', 'HighExp': \"screaming is an action that grabs people's attention. \", 'Med': 'sneezed', 'MediumExp': 'hearing someone sneeze may briefly grab your attention. '}, 68: {'Name': 'Arousal', 'Type': 'Attention', 'Modality': 'General', 'Submodality': 'Arousal', 'Relation': 'being', 'Query': 'an action or activity that makes you feel alert, activated, excited, or keyed up in either a positive or negative way', 'High': 'argue', 'HighExp': 'arguing makes people alert, excited, and keyed up.', 'Med': 'cooked', 'MediumExp': 'cooking can be somewhat stimulating and arousing. '}, 69: {'Name': 'Telicity1', 'Type': 'Event', 'Modality': 'ArgStructural', 'Submodality': 'Temporal', 'Relation': 'being', 'Query': 'event that included an inherent end point', 'High': 'straighten', 'HighExp': 't comes to an end when the item in question becomes straight.', 'Med': 'jog', 'MediumExp': 'it can go on for an unknown amount of time, even forever, if there is no physical constraint.'}, 70: {'Name': 'Telicity2', 'Type': 'Event', 'Modality': 'ArgStructural', 'Submodality': 'Temporal', 'Relation': 'being', 'Query': 'make sense to perform this action or have this thought again after a short time period has elapsed', 'High': 'straighten', 'HighExp': 'if you STRAIGHTEN something, you’re finished straightening it, and it makes no sense to straighten it again after a short time.', 'Med': 'jog', 'MediumExp': 'OG, it makes sense that you might jog again after a short time.'}, 71: {'Name': 'Directed change', 'Type': 'Event', 'Modality': 'ArgStructural', 'Submodality': 'Event', 'Relation': 'being', 'Query': 'refer to a change from one state to another', 'High': 'dry', 'HighExp': 'DRY is an event that refers to a change of state, i.e., from wet to not wet.', 'Med': 'gaze', 'MediumExp': 'GAZE is an event that does not entail a change of state; it does not lead to any specific state.'}, 72: {'Name': 'Locomotion', 'Type': 'Event', 'Modality': 'ArgStructural', 'Submodality': 'Event', 'Relation': 'being', 'Query': 'refer to an event where a person or thing travels from one location to another', 'High': 'bike', 'HighExp': 'BIKE, as an event, typically involves a move from one location to another.', 'Med': 'block', 'MediumExp': 'does not involve a move from one location to another.'}, 73: {'Name': 'Actor', 'Type': 'Event', 'Modality': 'ArgStructural', 'Submodality': 'Event', 'Relation': 'being', 'Query': \"refer to an action or activity that is carried out by participants' will\", 'High': 'drink', 'HighExp': \"DRINK is an event that is carried out by one's will.\", 'Med': 'fall', 'MediumExp': 'typically, fall is not carried out with will.'}}"
      ]
     },
     "execution_count": 71,
     "metadata": {},
     "output_type": "execute_result"
    }
   ],
   "source": [
    "querycontent"
   ]
  },
  {
   "cell_type": "code",
   "execution_count": 72,
   "metadata": {},
   "outputs": [
    {
     "data": {
      "text/plain": [
       "74"
      ]
     },
     "execution_count": 72,
     "metadata": {},
     "output_type": "execute_result"
    }
   ],
   "source": [
    "len(querycontent) ##the number of features we are going to norm for"
   ]
  },
  {
   "cell_type": "code",
   "execution_count": 73,
   "metadata": {},
   "outputs": [],
   "source": [
    "# trial_info = []\n",
    "# for k, v in raw.items():\n",
    "#     try: \n",
    "#         dic = {}\n",
    "#         word = \"<h><b> break </b></h><br>\"\n",
    "#         #sent = \"<h>As in: <i>The boy works very hard</i></h><br>\"\n",
    "#         qs = \"<p><b>To what degree do you think this event as \" + v['Relation'] + \" \" + v['Query'] + \"?\" + \"</b></p>\"\n",
    "#         e1 = \"<p> For comparison, \" + \"<b>\" + v['High'] + \"</b>\" + \" would receive a high rating on this question, because \" + v['HighExp'] + \"<br><br>\"\n",
    "#         e2 = \"In contrast, \" + \"<b>\" + v['Med'] + \"</b>\"+ \" might receive a medium rating, because \" + v['MediumExp'] + \"</p><br>\"\n",
    "#         prmt = \"<p>Your rating for <b>work</b>:</p>\"\n",
    "#         dic['question'] = word + qs + e1 + e2 + prmt\n",
    "#         dic['verb'] = 'work'\n",
    "#         dic['attribute'] = v['Name']\n",
    "#         trial_info.append(dic)\n",
    "#     except: \n",
    "#         print (k, \"An exception occured\")"
   ]
  },
  {
   "cell_type": "code",
   "execution_count": 74,
   "metadata": {},
   "outputs": [
    {
     "data": {
      "text/plain": [
       "[]"
      ]
     },
     "execution_count": 74,
     "metadata": {},
     "output_type": "execute_result"
    }
   ],
   "source": [
    "trial_info"
   ]
  },
  {
   "cell_type": "code",
   "execution_count": 75,
   "metadata": {},
   "outputs": [],
   "source": [
    "# with open('questionlist.txt', 'w') as f:\n",
    "#     for item in trial_info:\n",
    "#         f.write(\"%s,\\n\" % item)"
   ]
  },
  {
   "cell_type": "code",
   "execution_count": 76,
   "metadata": {},
   "outputs": [],
   "source": [
    "# import json\n",
    "# out = open('questionlist', 'w', encoding='utf-8')\n",
    "# for dic in trial_info:\n",
    "#     json.dump(dic, out)\n",
    "#     out.write(\"\\n\")"
   ]
  },
  {
   "cell_type": "code",
   "execution_count": 77,
   "metadata": {},
   "outputs": [
    {
     "name": "stdout",
     "output_type": "stream",
     "text": [
      "# of verbs in norming:  348\n"
     ]
    }
   ],
   "source": [
    "verblist_df = pd.read_excel('~/Google Drive/Primary/Projects/VerbVector/Verblists/List348_v1.xlsx')\n",
    "verblist = verblist_df.loc[verblist_df['in']==1].Lemma.tolist()\n",
    "print ('# of verbs in norming: ', len(verblist))"
   ]
  },
  {
   "cell_type": "code",
   "execution_count": 83,
   "metadata": {},
   "outputs": [],
   "source": [
    "###for each verb, create a txt query file where each row is each query\n",
    "for verb in verblist: \n",
    "    trial_info = []\n",
    "    for k, v in querycontent.items():\n",
    "        try: \n",
    "            dic = {}\n",
    "            word = \"<h><b> %s </b></h><br>\" %verb\n",
    "            #sent = \"<h>As in: <i>The boy works very hard</i></h><br>\"\n",
    "            qs = \"<p><b>To what degree do you think this event as \" + v['Relation'] + \" \" + v['Query'] + \"?\" + \"</b></p>\"\n",
    "            e1 = \"<p> For comparison, \" + \"<b>\" + v['High'] + \"</b>\" + \" would receive a high rating on this question, because \" + v['HighExp'] + \"<br><br>\"\n",
    "            e2 = \"In contrast, \" + \"<b>\" + v['Med'] + \"</b>\"+ \" might receive a medium rating, because \" + v['MediumExp'] + \"</p><br>\"\n",
    "            prmt = \"<p>Your rating for <b> %s </b>:</p>\" %verb\n",
    "            dic['question'] = word + qs + e1 + e2 + prmt\n",
    "            dic['verb'] = verb\n",
    "            dic['attribute'] = v['Name']\n",
    "            trial_info.append(dic)\n",
    "        except: \n",
    "            print (verb, k, \"An exception occured\")\n",
    "        #print (trial_info)\n",
    "        \n",
    "        with open('/Users/songkim/Google Drive/Primary/jsp/jspsych-crea/questionlist/questionlist_%s.txt' %verb, 'w') as f:\n",
    "            for item in trial_info:\n",
    "                f.write(\"%s,\\n\" % item)"
   ]
  },
  {
   "cell_type": "code",
   "execution_count": null,
   "metadata": {},
   "outputs": [],
   "source": []
  },
  {
   "cell_type": "code",
   "execution_count": null,
   "metadata": {},
   "outputs": [],
   "source": []
  },
  {
   "cell_type": "code",
   "execution_count": null,
   "metadata": {},
   "outputs": [],
   "source": []
  }
 ],
 "metadata": {
  "kernelspec": {
   "display_name": "Python 3",
   "language": "python",
   "name": "python3"
  },
  "language_info": {
   "codemirror_mode": {
    "name": "ipython",
    "version": 3
   },
   "file_extension": ".py",
   "mimetype": "text/x-python",
   "name": "python",
   "nbconvert_exporter": "python",
   "pygments_lexer": "ipython3",
   "version": "3.7.4"
  }
 },
 "nbformat": 4,
 "nbformat_minor": 2
}
